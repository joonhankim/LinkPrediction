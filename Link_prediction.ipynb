{
 "cells": [
  {
   "cell_type": "code",
   "execution_count": 1,
   "metadata": {},
   "outputs": [
    {
     "name": "stdout",
     "output_type": "stream",
     "text": [
      "C:\\Users\\eric\n"
     ]
    }
   ],
   "source": [
    "import os\n",
    "from os import chdir\n",
    "print(os.getcwd())\n",
    "chdir('C:\\\\Users\\\\eric\\\\Desktop')"
   ]
  },
  {
   "cell_type": "code",
   "execution_count": 2,
   "metadata": {},
   "outputs": [],
   "source": [
    "import linkpred"
   ]
  },
  {
   "cell_type": "code",
   "execution_count": 11,
   "metadata": {},
   "outputs": [],
   "source": [
    "#network load .graphml\n",
    "M = linkpred.read_network(\"2019_sec.graphml.graphml\")"
   ]
  },
  {
   "cell_type": "code",
   "execution_count": 12,
   "metadata": {},
   "outputs": [
    {
     "data": {
      "text/plain": [
       "1359"
      ]
     },
     "execution_count": 12,
     "metadata": {},
     "output_type": "execute_result"
    }
   ],
   "source": [
    "len(M)"
   ]
  },
  {
   "cell_type": "code",
   "execution_count": 13,
   "metadata": {},
   "outputs": [],
   "source": [
    "#기존 노드들의 연결은 배제\n",
    "simRank = linkpred.predictors.SimRank(M,excluded=M.edges())"
   ]
  },
  {
   "cell_type": "code",
   "execution_count": 14,
   "metadata": {},
   "outputs": [],
   "source": [
    "#예측\n",
    "simRank_results = simRank.predict(c=0.4,num_iterations=1000)"
   ]
  },
  {
   "cell_type": "code",
   "execution_count": 17,
   "metadata": {},
   "outputs": [],
   "source": [
    "top_m = simRank_results.top(30)"
   ]
  },
  {
   "cell_type": "code",
   "execution_count": 18,
   "metadata": {},
   "outputs": [
    {
     "name": "stdout",
     "output_type": "stream",
     "text": [
      "988 - 196 0.07242926022989639\n",
      "2 - 102 0.054020465679506496\n",
      "761 - 191 0.05310072280257325\n",
      "489 - 3002 0.050634479594881994\n",
      "3002 - 2446 0.050634479594881994\n",
      "4 - 196 0.05037602988692901\n",
      "54 - 102 0.04939955156802976\n",
      "653 - 5835 0.047548173166259734\n",
      "31 - 191 0.04754125392088003\n",
      "276 - 2 0.04678366268957691\n",
      "48 - 27 0.0399055514847517\n",
      "31 - 189 0.03808704324297384\n",
      "164 - 1379 0.03804975579860651\n",
      "542 - 189 0.03790862325270806\n",
      "96 - 54 0.03771084201560365\n",
      "761 - 189 0.036969813978726854\n",
      "29 - 27 0.036755764074971504\n",
      "988 - 27 0.03618300328973305\n",
      "653 - 2364 0.035854233066678814\n",
      "761 - 31 0.033839168863920646\n",
      "29 - 196 0.0325503658898891\n",
      "53 - 191 0.03158790044201037\n",
      "542 - 31 0.03074221401722022\n",
      "4223 - 276 0.03039188504456719\n",
      "4 - 189 0.030240285662816575\n",
      "54 - 276 0.029726839102218815\n",
      "988 - 164 0.02857139975590918\n",
      "542 - 54 0.028211855253323325\n",
      "27 - 1966 0.028045318510794587\n",
      "235 - 196 0.027432782528382924\n"
     ]
    }
   ],
   "source": [
    "for authors, score in top_m.items():\n",
    "...    print(authors, score)"
   ]
  },
  {
   "cell_type": "code",
   "execution_count": null,
   "metadata": {},
   "outputs": [],
   "source": []
  }
 ],
 "metadata": {
  "kernelspec": {
   "display_name": "Python 3",
   "language": "python",
   "name": "python3"
  },
  "language_info": {
   "codemirror_mode": {
    "name": "ipython",
    "version": 3
   },
   "file_extension": ".py",
   "mimetype": "text/x-python",
   "name": "python",
   "nbconvert_exporter": "python",
   "pygments_lexer": "ipython3",
   "version": "3.6.9"
  }
 },
 "nbformat": 4,
 "nbformat_minor": 4
}
